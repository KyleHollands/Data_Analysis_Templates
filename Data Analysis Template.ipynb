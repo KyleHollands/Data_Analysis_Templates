{
 "cells": [
  {
   "cell_type": "markdown",
   "metadata": {},
   "source": [
    "## Import Packages and Libraries"
   ]
  },
  {
   "cell_type": "code",
   "execution_count": null,
   "metadata": {},
   "outputs": [],
   "source": [
    "import pandas as pd\n",
    "import numpy as np\n",
    "import seaborn as sns\n",
    "import datetime as dt\n",
    "from matplotlib import pyplot as plt\n",
    "from statsmodels.formula.api import ols\n",
    "import statsmodels.api as sm\n",
    "import scipy.stats as stats\n",
    "from scipy.stats import pearsonr\n",
    "from scipy.stats import ttest_rel\n",
    "from sklearn.model_selection import train_test_split"
   ]
  },
  {
   "cell_type": "markdown",
   "metadata": {},
   "source": [
    "## (P)ACE - Plan Phase\n",
    "### Part 1 - Data\n",
    "#### How were the observations in the dataset collected?\n",
    "###### (What type of data collection method was used? Clustering, Random or Stratified sampling.)"
   ]
  },
  {
   "cell_type": "markdown",
   "metadata": {},
   "source": []
  },
  {
   "cell_type": "markdown",
   "metadata": {},
   "source": [
    "### Part 2 - Research Question\n",
    "#### Project Scope\n",
    "###### (If the scope isn't already known, insights into the data will be discovered during EDA phase has begun.)"
   ]
  },
  {
   "cell_type": "markdown",
   "metadata": {},
   "source": []
  },
  {
   "cell_type": "markdown",
   "metadata": {},
   "source": [
    "## P(A)CE - Analyze Phase\n",
    "### Part 3 - EDA (Exploratory Data Analysis)\n",
    "#### Investigate the Dataset"
   ]
  },
  {
   "cell_type": "code",
   "execution_count": null,
   "metadata": {},
   "outputs": [],
   "source": [
    "# Import the dataset\n",
    "df = pd.read_csv('')"
   ]
  },
  {
   "cell_type": "markdown",
   "metadata": {},
   "source": [
    "##### Descriptive Statistics"
   ]
  },
  {
   "cell_type": "code",
   "execution_count": null,
   "metadata": {},
   "outputs": [],
   "source": [
    "# Summary Statistics\n",
    "df.describe()"
   ]
  },
  {
   "cell_type": "code",
   "execution_count": null,
   "metadata": {},
   "outputs": [],
   "source": [
    "# Check column data types\n",
    "df.dtypes"
   ]
  },
  {
   "cell_type": "code",
   "execution_count": null,
   "metadata": {},
   "outputs": [],
   "source": [
    "# Check for duplicates\n",
    "df.shape\n",
    "df.drop_duplicates().shape"
   ]
  },
  {
   "cell_type": "code",
   "execution_count": null,
   "metadata": {},
   "outputs": [],
   "source": [
    "# Check for missing values\n",
    "df_missing_values = df.isnull().sum()\n",
    "print(df_missing_values)"
   ]
  },
  {
   "cell_type": "code",
   "execution_count": null,
   "metadata": {},
   "outputs": [],
   "source": [
    "# Remove, impute or acquire missing data\n",
    "\n",
    "df_filtered = df.dropna()\n",
    "df_filtered.shape\n",
    "df_filtered.isnull().sum()"
   ]
  },
  {
   "cell_type": "markdown",
   "metadata": {},
   "source": [
    "##### Pairplot to visualize relationships between pairs of variables\n"
   ]
  },
  {
   "cell_type": "code",
   "execution_count": null,
   "metadata": {},
   "outputs": [],
   "source": [
    "sns.pairplot(df)"
   ]
  },
  {
   "cell_type": "markdown",
   "metadata": {},
   "source": [
    "##### What Probability Distributions could apply to this dataset? (If Applicable)\n",
    "###### (Binomial, Poisson, Normal Distribution)"
   ]
  },
  {
   "cell_type": "code",
   "execution_count": null,
   "metadata": {},
   "outputs": [],
   "source": []
  },
  {
   "cell_type": "markdown",
   "metadata": {},
   "source": []
  },
  {
   "cell_type": "markdown",
   "metadata": {},
   "source": [
    "#### Data Manipulation and Cleaning"
   ]
  },
  {
   "cell_type": "code",
   "execution_count": null,
   "metadata": {},
   "outputs": [],
   "source": [
    "# Rename columns for easier analysis if necessary\n",
    "\n",
    "df_filtered = df_filtered.rename(columns={})\n",
    "df_filtered.reset_index\n",
    "df_filtered.head()"
   ]
  },
  {
   "cell_type": "code",
   "execution_count": null,
   "metadata": {},
   "outputs": [],
   "source": [
    "# Convert date columns if necessary\n",
    "\n",
    "df_filtered[] = pd.to_datetime(df_filtered[])\n",
    "df_filtered[] = pd.to_datetime(df_filtered[])\n",
    "df_filtered.head()"
   ]
  },
  {
   "cell_type": "code",
   "execution_count": null,
   "metadata": {},
   "outputs": [],
   "source": [
    "# Keep relevant columns\n",
    "\n",
    "columns_to_drop = []\n",
    "df_filtered = df_filtered.drop(columns_to_drop, axis=1)  # Drop specified columns\n",
    "df_filtered.head()"
   ]
  },
  {
   "cell_type": "code",
   "execution_count": null,
   "metadata": {},
   "outputs": [],
   "source": [
    "# Plot the Dependent Variable\n",
    "\n",
    "plt.figure(figsize=(8, 5))\n",
    "plt.hist(df_filtered[], bins=10, edgecolor=\"black\")\n",
    "plt.xlabel()\n",
    "plt.ylabel()\n",
    "plt.title()\n",
    "plt.grid(True)\n"
   ]
  },
  {
   "cell_type": "markdown",
   "metadata": {},
   "source": [
    "##### Initial Insights"
   ]
  },
  {
   "cell_type": "markdown",
   "metadata": {},
   "source": []
  },
  {
   "cell_type": "markdown",
   "metadata": {},
   "source": [
    "#### Check Statistical Test Conditions/Assumptions (If Applicable)"
   ]
  },
  {
   "cell_type": "code",
   "execution_count": null,
   "metadata": {},
   "outputs": [],
   "source": [
    "## Boxplots for Averages"
   ]
  },
  {
   "cell_type": "markdown",
   "metadata": {},
   "source": []
  },
  {
   "cell_type": "code",
   "execution_count": null,
   "metadata": {},
   "outputs": [],
   "source": [
    "## Histograms for Averages"
   ]
  },
  {
   "cell_type": "markdown",
   "metadata": {},
   "source": []
  },
  {
   "cell_type": "code",
   "execution_count": null,
   "metadata": {},
   "outputs": [],
   "source": [
    "## Normal Probability Plots"
   ]
  },
  {
   "cell_type": "markdown",
   "metadata": {},
   "source": []
  },
  {
   "cell_type": "markdown",
   "metadata": {},
   "source": [
    "## PA(C)E - Construct Phase of the PACE Framework\n",
    "### Part 4 - Modeling/Inference "
   ]
  },
  {
   "cell_type": "markdown",
   "metadata": {},
   "source": [
    "H0 (nothing going on):\n",
    "\n",
    "HA (something going on):"
   ]
  },
  {
   "cell_type": "markdown",
   "metadata": {},
   "source": [
    "#### Create a Hold-Out Sample (If Applicable)"
   ]
  },
  {
   "cell_type": "code",
   "execution_count": null,
   "metadata": {},
   "outputs": [],
   "source": [
    "# Subset X and y variables\n",
    "df_filtered_X = df_filtered[[]]\n",
    "df_filtered_y = df_filtered[[]]\n",
    "\n",
    "# Import train-test-split function from sci-kit learn\n",
    "from sklearn.model_selection import train_test_split\n",
    "\n",
    "# Create training data sets and holdout (testing) data sets\n",
    "X_train, X_test, y_train, y_test = train_test_split(df_filtered_X, df_filtered_y, \n",
    "                                                    test_size = 0.3, random_state = 42)"
   ]
  },
  {
   "cell_type": "markdown",
   "metadata": {},
   "source": [
    "#### Build and Fit The Model (If Applicable)"
   ]
  },
  {
   "cell_type": "code",
   "execution_count": null,
   "metadata": {},
   "outputs": [],
   "source": [
    "# Define the OLS formula.\n",
    "ols_data = pd.concat([X_train, y_train], axis = 1)\n",
    "\n",
    "# Create an OLS model.\n",
    "ols_formula =\n",
    "\n",
    "# Fit the model.\n",
    "OLS = ols(formula = ols_formula, data = ols_data)\n",
    "\n",
    "# Save the results summary.\n",
    "model = OLS.fit()\n",
    "\n",
    "# Display the model results.\n",
    "model.summary()"
   ]
  },
  {
   "cell_type": "markdown",
   "metadata": {},
   "source": [
    "#### Run Statistical Tests (If Applicable)"
   ]
  },
  {
   "cell_type": "code",
   "execution_count": null,
   "metadata": {},
   "outputs": [],
   "source": []
  },
  {
   "cell_type": "markdown",
   "metadata": {},
   "source": []
  },
  {
   "cell_type": "markdown",
   "metadata": {},
   "source": [
    "#### Check Model Conditions/Assumptions Post Model Construction (If Applicable)"
   ]
  },
  {
   "cell_type": "markdown",
   "metadata": {},
   "source": [
    "##### Linearity"
   ]
  },
  {
   "cell_type": "code",
   "execution_count": null,
   "metadata": {},
   "outputs": [],
   "source": [
    "import seaborn as sns\n",
    "import matplotlib.pyplot as plt\n",
    "\n",
    "# Create the scatter plot with regression line\n",
    "sns.regplot(x=\"\", y=\"\", data=ols_data)\n",
    "\n",
    "# Access the scatter plot object and set outlines\n",
    "plt.gca().collections[0].set_edgecolor(\"black\")  # Set outline color to black\n",
    "plt.gca().collections[0].set_linewidth(1)  # Adjust outline width\n",
    "\n",
    "# Optional: Add labels and title for clarity\n",
    "plt.xlabel(\"\")\n",
    "plt.ylabel(\"\")\n",
    "plt.title(\"\")\n",
    "\n",
    "plt.show()\n"
   ]
  },
  {
   "cell_type": "markdown",
   "metadata": {},
   "source": []
  },
  {
   "cell_type": "markdown",
   "metadata": {},
   "source": [
    "##### Independent Observations"
   ]
  },
  {
   "cell_type": "markdown",
   "metadata": {},
   "source": []
  },
  {
   "cell_type": "markdown",
   "metadata": {},
   "source": [
    "##### Normality"
   ]
  },
  {
   "cell_type": "code",
   "execution_count": null,
   "metadata": {},
   "outputs": [],
   "source": [
    "# Calculate the residuals.\n",
    "\n",
    "# Create a histogram with the residuals .\n",
    "residuals = model.resid\n",
    "fig, axes = plt.subplots(1, 2, figsize = (8,4))\n",
    "sns.histplot(residuals, ax=axes[0])\n",
    "axes[0].set_xlabel(\"Residual Value\")\n",
    "axes[0].set_title(\"Histogram of Residuals\")\n",
    "\n",
    "# Create a Q-Q plot of the residuals.\n",
    "sm.qqplot(model.resid, line = 's',ax = axes[1])\n",
    "axes[1].set_title(\"Normal Q-Q Plot\")\n",
    "plt.tight_layout()"
   ]
  },
  {
   "cell_type": "markdown",
   "metadata": {},
   "source": []
  },
  {
   "cell_type": "markdown",
   "metadata": {},
   "source": [
    "##### Homoscedasticity"
   ]
  },
  {
   "cell_type": "code",
   "execution_count": null,
   "metadata": {},
   "outputs": [],
   "source": [
    "# Create a scatterplot with the fitted values from the model and the residuals.\n",
    "fig = sns.scatterplot(x=model.fittedvalues, y=model.resid)\n",
    "fig.set_xlabel(\"Fitted Values\")\n",
    "fig.set_ylabel(\"Residuals\")\n",
    "\n",
    "# Set the title.\n",
    "fig.set_title(\"Fitted Values vs Residuals\")\n",
    "\n",
    "# Add a line at y = 0 to visualize the variance of residuals above and below 0.\n",
    "fig.axhline(0)"
   ]
  },
  {
   "cell_type": "markdown",
   "metadata": {},
   "source": []
  },
  {
   "cell_type": "markdown",
   "metadata": {},
   "source": [
    "##### No Multicollinearity (If Applicable)"
   ]
  },
  {
   "cell_type": "code",
   "execution_count": null,
   "metadata": {},
   "outputs": [],
   "source": [
    "# Test multicollinearity of predictor variables with Variance Inflation Factor (VIF)\n",
    "\n",
    "from statsmodels.stats.outliers_influence import variance_inflation_factor\n",
    "\n",
    "X = df_filtered[[]]\n",
    "\n",
    "vif = [variance_inflation_factor(X.values, i) for i in range(X.shape[1])]\n",
    "vif = zip(X, vif)\n",
    "print(list(vif))"
   ]
  },
  {
   "cell_type": "markdown",
   "metadata": {},
   "source": [
    "Featres with an VIF > 5 may have multicollinearity, which means they are highly correlated with each other and can inflate the standard errors of the regression coefficients. This can make it difficult to interpret the results of the model and can also lead to unstable coefficient estimates.\n",
    "\n",
    "Consideration should be given to removing these features from the model or finding ways to reduce the multicollinearity between them."
   ]
  },
  {
   "cell_type": "markdown",
   "metadata": {},
   "source": [
    "### Part 5 - Prediction/Conclusion"
   ]
  },
  {
   "cell_type": "code",
   "execution_count": null,
   "metadata": {},
   "outputs": [],
   "source": [
    "model.summary()"
   ]
  },
  {
   "cell_type": "markdown",
   "metadata": {},
   "source": []
  },
  {
   "cell_type": "markdown",
   "metadata": {},
   "source": [
    "## PAC(E)- Execute Phase of the PACE Framework\n",
    "### What Story does the Data Tell?"
   ]
  },
  {
   "cell_type": "markdown",
   "metadata": {},
   "source": []
  }
 ],
 "metadata": {
  "kernelspec": {
   "display_name": "Python 3",
   "language": "python",
   "name": "python3"
  },
  "language_info": {
   "codemirror_mode": {
    "name": "ipython",
    "version": 3
   },
   "file_extension": ".py",
   "mimetype": "text/x-python",
   "name": "python",
   "nbconvert_exporter": "python",
   "pygments_lexer": "ipython3",
   "version": "3.11.7"
  }
 },
 "nbformat": 4,
 "nbformat_minor": 2
}
